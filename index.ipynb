{
 "cells": [
  {
   "cell_type": "markdown",
   "metadata": {},
   "source": [
    "# Python Object Relationships - Belongs To Lab"
   ]
  },
  {
   "cell_type": "markdown",
   "metadata": {},
   "source": [
    "## Introduction\n",
    "\n",
    "We have worked with many classes and domains that all seem to be related in some way. That is the point of a domain model after all, right? So, we know that our classes and domain models should mirror real world structures for our programs to operate the way we want them to. Another concept to accomplish this is Object Relationships. Don't worry, these relationships will be a lot less complex than our real world relationships -- hopefully. Basically, object relationships attempt to show how one object relates with another in a given environment or domain. So, let's take for example a `Person` class and a `Dog` class. A person could have one or many dogs and since dogs are notoriously loyal, a dog has one owner. In an object relationship this would mean that a dog *belongs to* a person. Below, we are going to practice translating this type of relationship into code."
   ]
  },
  {
   "cell_type": "markdown",
   "metadata": {},
   "source": [
    "## Objectives\n",
    "* Define a car class where instances have an `owner` attribute\n",
    "* Translate this ownership attribute into a **belongs to** relationship\n",
    "* Practice querying a belongs to relationship"
   ]
  },
  {
   "cell_type": "markdown",
   "metadata": {},
   "source": [
    "## Defining Our Class\n",
    "Alright, we are going to use a Car class to demonstrate a \"belongs to\" relationship. So, to get started, let's define a Car class with an `__init__` method that takes in parameters for make, model, year, and owner. The make and model are will be strings representing the name of the car manufacturer and the name of the car model, the year will be a number representing the year the car was produced, and the owner will be a string with the name of the car's owner. Again, these instance variables should follow convention and use leading underscores. Let's make intance methods to both get and set (read and write) these instance variables. Use the appropriate decorators and call these methods `make`, `model`, `year`, and `owner`. We should also have a class variable `_all` which points to a list of all car instance objects and a class method called `all` that allows us to get (read) this class variable. "
   ]
  },
  {
   "cell_type": "code",
   "execution_count": 1,
   "metadata": {},
   "outputs": [],
   "source": [
    "from car import Car\n",
    "chrysler = Car(\"Chrysler\", \"Sebring Convertible\", 2004, \"Michael Scott\")"
   ]
  },
  {
   "cell_type": "markdown",
   "metadata": {},
   "source": [
    "## Defining Belongs To Relationship\n",
    "Great, so, we now have these car instances that we can see have an owner. But who is the owner of the Sebring Convertible? Let's investigate:"
   ]
  },
  {
   "cell_type": "code",
   "execution_count": 2,
   "metadata": {},
   "outputs": [
    {
     "ename": "AttributeError",
     "evalue": "'Car' object has no attribute 'owner'",
     "output_type": "error",
     "traceback": [
      "\u001b[0;31m\u001b[0m",
      "\u001b[0;31mAttributeError\u001b[0mTraceback (most recent call last)",
      "\u001b[0;32m<ipython-input-2-920e8a167766>\u001b[0m in \u001b[0;36m<module>\u001b[0;34m()\u001b[0m\n\u001b[0;32m----> 1\u001b[0;31m \u001b[0mtype\u001b[0m\u001b[0;34m(\u001b[0m\u001b[0mchrysler\u001b[0m\u001b[0;34m.\u001b[0m\u001b[0mowner\u001b[0m\u001b[0;34m)\u001b[0m \u001b[0;31m# str\u001b[0m\u001b[0;34m\u001b[0m\u001b[0m\n\u001b[0m",
      "\u001b[0;31mAttributeError\u001b[0m: 'Car' object has no attribute 'owner'"
     ]
    }
   ],
   "source": [
    "type(chrysler.owner) # str"
   ]
  },
  {
   "cell_type": "markdown",
   "metadata": {},
   "source": [
    "Hmm... So, we have a string that is the name of the owner. That is okay, but what if we want to know more about this owner? Maybe we can switch this string with a dictionary so we can add some more attributes? Let's try that out."
   ]
  },
  {
   "cell_type": "code",
   "execution_count": 3,
   "metadata": {
    "scrolled": true
   },
   "outputs": [
    {
     "ename": "AttributeError",
     "evalue": "'Car' object has no attribute 'owner'",
     "output_type": "error",
     "traceback": [
      "\u001b[0;31m\u001b[0m",
      "\u001b[0;31mAttributeError\u001b[0mTraceback (most recent call last)",
      "\u001b[0;32m<ipython-input-3-4c31f6c8faf4>\u001b[0m in \u001b[0;36m<module>\u001b[0;34m()\u001b[0m\n\u001b[1;32m      1\u001b[0m \u001b[0mdatsun\u001b[0m \u001b[0;34m=\u001b[0m \u001b[0mCar\u001b[0m\u001b[0;34m(\u001b[0m\u001b[0;34m\"Datsun\"\u001b[0m\u001b[0;34m,\u001b[0m \u001b[0;34m\"280Z\"\u001b[0m\u001b[0;34m,\u001b[0m \u001b[0;36m1978\u001b[0m\u001b[0;34m,\u001b[0m \u001b[0;34m{\u001b[0m\u001b[0;34m'name'\u001b[0m\u001b[0;34m:\u001b[0m \u001b[0;34m\"Dwight Schrute\"\u001b[0m\u001b[0;34m,\u001b[0m \u001b[0;34m'occupation'\u001b[0m\u001b[0;34m:\u001b[0m \u001b[0;34m\"Paper Salesperson\"\u001b[0m\u001b[0;34m,\u001b[0m \u001b[0;34m'favotite_tv_show'\u001b[0m\u001b[0;34m:\u001b[0m \u001b[0;34m\"Battlestar Galactica\"\u001b[0m\u001b[0;34m}\u001b[0m\u001b[0;34m)\u001b[0m\u001b[0;34m\u001b[0m\u001b[0m\n\u001b[0;32m----> 2\u001b[0;31m \u001b[0mdatsun\u001b[0m\u001b[0;34m.\u001b[0m\u001b[0mowner\u001b[0m\u001b[0;34m[\u001b[0m\u001b[0;34m'occupation'\u001b[0m\u001b[0;34m]\u001b[0m \u001b[0;31m# 'Paper Salesperson'\u001b[0m\u001b[0;34m\u001b[0m\u001b[0m\n\u001b[0m",
      "\u001b[0;31mAttributeError\u001b[0m: 'Car' object has no attribute 'owner'"
     ]
    }
   ],
   "source": [
    "datsun = Car(\"Datsun\", \"280Z\", 1978, {'name': \"Dwight Schrute\", 'occupation': \"Paper Salesperson\", 'favotite_tv_show': \"Battlestar Galactica\"})\n",
    "datsun.owner['occupation'] # 'Paper Salesperson'"
   ]
  },
  {
   "cell_type": "markdown",
   "metadata": {},
   "source": [
    "Alright, that's definitely better. We have way more information about the owner and it's beginning to give us more functionality as well. In fact, this dictionary kind of resembles an instance object. Let's define a Person class and have it initialize instances with a name and occupation (`_name`, `_occupation`). Make sure to include instance methods to get (read) these attributes with the appropriate decorator. "
   ]
  },
  {
   "cell_type": "code",
   "execution_count": 4,
   "metadata": {},
   "outputs": [],
   "source": [
    "from person import Person\n",
    "pam = Person(\"Pam Beasley\", \"Secretary\")"
   ]
  },
  {
   "cell_type": "markdown",
   "metadata": {},
   "source": [
    "Awesome, we now have this class that represents an actual person. We can define instance methods and all kinds of things on the Person class to make the person instance object more life-like and complex. For now, let's just relate it to our Car class.  We can do so by passing the relevant Person instance, `pam` in this case, into our Car class upon instantiation of a new Car instance."
   ]
  },
  {
   "cell_type": "code",
   "execution_count": 5,
   "metadata": {},
   "outputs": [],
   "source": [
    "toyota = Car(\"Toyota\", \"Yaris\", 2007, pam)"
   ]
  },
  {
   "cell_type": "code",
   "execution_count": 6,
   "metadata": {},
   "outputs": [
    {
     "ename": "AttributeError",
     "evalue": "'Car' object has no attribute 'owner'",
     "output_type": "error",
     "traceback": [
      "\u001b[0;31m\u001b[0m",
      "\u001b[0;31mAttributeError\u001b[0mTraceback (most recent call last)",
      "\u001b[0;32m<ipython-input-6-8d4f47f436a2>\u001b[0m in \u001b[0;36m<module>\u001b[0;34m()\u001b[0m\n\u001b[0;32m----> 1\u001b[0;31m \u001b[0mtype\u001b[0m\u001b[0;34m(\u001b[0m\u001b[0mtoyota\u001b[0m\u001b[0;34m.\u001b[0m\u001b[0mowner\u001b[0m\u001b[0;34m)\u001b[0m\u001b[0;34m\u001b[0m\u001b[0m\n\u001b[0m",
      "\u001b[0;31mAttributeError\u001b[0m: 'Car' object has no attribute 'owner'"
     ]
    }
   ],
   "source": [
    "type(toyota.owner)"
   ]
  },
  {
   "cell_type": "code",
   "execution_count": 7,
   "metadata": {},
   "outputs": [
    {
     "ename": "AttributeError",
     "evalue": "'Car' object has no attribute 'owner'",
     "output_type": "error",
     "traceback": [
      "\u001b[0;31m\u001b[0m",
      "\u001b[0;31mAttributeError\u001b[0mTraceback (most recent call last)",
      "\u001b[0;32m<ipython-input-7-93d6b20c2361>\u001b[0m in \u001b[0;36m<module>\u001b[0;34m()\u001b[0m\n\u001b[0;32m----> 1\u001b[0;31m \u001b[0mtoyota\u001b[0m\u001b[0;34m.\u001b[0m\u001b[0mowner\u001b[0m\u001b[0;34m.\u001b[0m\u001b[0mname\u001b[0m \u001b[0;31m# 'Pam Beasley'\u001b[0m\u001b[0;34m\u001b[0m\u001b[0m\n\u001b[0m",
      "\u001b[0;31mAttributeError\u001b[0m: 'Car' object has no attribute 'owner'"
     ]
    }
   ],
   "source": [
    "toyota.owner.name # 'Pam Beasley'"
   ]
  },
  {
   "cell_type": "code",
   "execution_count": 8,
   "metadata": {},
   "outputs": [
    {
     "ename": "AttributeError",
     "evalue": "'Car' object has no attribute 'owner'",
     "output_type": "error",
     "traceback": [
      "\u001b[0;31m\u001b[0m",
      "\u001b[0;31mAttributeError\u001b[0mTraceback (most recent call last)",
      "\u001b[0;32m<ipython-input-8-dfa14954e925>\u001b[0m in \u001b[0;36m<module>\u001b[0;34m()\u001b[0m\n\u001b[0;32m----> 1\u001b[0;31m \u001b[0mtoyota\u001b[0m\u001b[0;34m.\u001b[0m\u001b[0mowner\u001b[0m\u001b[0;34m.\u001b[0m\u001b[0moccupation\u001b[0m \u001b[0;31m# 'Secretary'\u001b[0m\u001b[0;34m\u001b[0m\u001b[0m\n\u001b[0m",
      "\u001b[0;31mAttributeError\u001b[0m: 'Car' object has no attribute 'owner'"
     ]
    }
   ],
   "source": [
    "toyota.owner.occupation # 'Secretary'"
   ]
  },
  {
   "cell_type": "markdown",
   "metadata": {},
   "source": [
    "Wow, that looks so much more straightforward! Also, the car's owner is basically a real person now (okay, maybe not *basically* but definitely closer than we were with just a string.)\n",
    "This relationship is a **belongs to relationship**. The car *belongs to* an owner. \n",
    "\n",
    "Notice that the car knows who its owner is but does the owner have a car attribute?"
   ]
  },
  {
   "cell_type": "code",
   "execution_count": 9,
   "metadata": {},
   "outputs": [
    {
     "ename": "AttributeError",
     "evalue": "'Person' object has no attribute 'car'",
     "output_type": "error",
     "traceback": [
      "\u001b[0;31m\u001b[0m",
      "\u001b[0;31mAttributeError\u001b[0mTraceback (most recent call last)",
      "\u001b[0;32m<ipython-input-9-2c7ce49114ff>\u001b[0m in \u001b[0;36m<module>\u001b[0;34m()\u001b[0m\n\u001b[0;32m----> 1\u001b[0;31m \u001b[0mpam\u001b[0m\u001b[0;34m.\u001b[0m\u001b[0mcar\u001b[0m\u001b[0;34m\u001b[0m\u001b[0m\n\u001b[0m",
      "\u001b[0;31mAttributeError\u001b[0m: 'Person' object has no attribute 'car'"
     ]
    }
   ],
   "source": [
    "pam.car"
   ]
  },
  {
   "cell_type": "markdown",
   "metadata": {},
   "source": [
    "It doesn't look like it! This is partly because we don't have an instance method or variable called car, but it also kind of makes sense. Let's think about a cars registration -- it lists the owner of the car. There's only one person on the registration because there is one main driver for that car. Let's now think about a person. Let's say this person is quite affluent and also interested in cars. So, they have several cars. Does it make sense to have several cars on this person's license or other document? Not really. It could get messy and also duplicates the information about ownership. So, it is the job of the car to know its owner -- since it only has one owner."
   ]
  },
  {
   "cell_type": "markdown",
   "metadata": {},
   "source": [
    "Before moving forward, let's delete the `chrysler` instance so our queries won't break when reading this example instance."
   ]
  },
  {
   "cell_type": "code",
   "execution_count": 10,
   "metadata": {},
   "outputs": [
    {
     "ename": "AttributeError",
     "evalue": "type object 'Car' has no attribute 'all'",
     "output_type": "error",
     "traceback": [
      "\u001b[0;31m\u001b[0m",
      "\u001b[0;31mAttributeError\u001b[0mTraceback (most recent call last)",
      "\u001b[0;32m<ipython-input-10-55b626bec66d>\u001b[0m in \u001b[0;36m<module>\u001b[0;34m()\u001b[0m\n\u001b[0;32m----> 1\u001b[0;31m \u001b[0;32mdel\u001b[0m \u001b[0mCar\u001b[0m\u001b[0;34m.\u001b[0m\u001b[0mall\u001b[0m\u001b[0;34m(\u001b[0m\u001b[0;34m)\u001b[0m\u001b[0;34m[\u001b[0m\u001b[0;36m0\u001b[0m\u001b[0;34m]\u001b[0m\u001b[0;34m\u001b[0m\u001b[0m\n\u001b[0m",
      "\u001b[0;31mAttributeError\u001b[0m: type object 'Car' has no attribute 'all'"
     ]
    }
   ],
   "source": [
    "del Car.all()[0]"
   ]
  },
  {
   "cell_type": "markdown",
   "metadata": {},
   "source": [
    "## Querying a \"Belongs To\" Relationship\n",
    "We still want to know how many cars and what types of cars Pam has, so, we'll need to find a way to accomplish this. \n",
    "\n",
    "Let's think about the fact that the cars all know their owners. Where can we find a list of all the cars we have created? \n",
    "\n",
    "We should be able to use the car class to answer our questions about who owns which cars, how many they own, and even if there is an occupation that lends itself to driving a certain make or model car. "
   ]
  },
  {
   "cell_type": "code",
   "execution_count": 11,
   "metadata": {},
   "outputs": [],
   "source": [
    "# let's first fix our first couple car instances and set them equal to the person instances that represent them:\n",
    "# make sure you have defined your setter instance methods for the car class!\n",
    "michael = Person(\"Michael Scott\", \"Regional Manager\")\n",
    "sebring = Car(\"Chrysler\", \"Sebring Convertible\", 2004, michael)\n",
    "dwight = Person(\"Dwight Schrute\", \"Paper Salesperson\")\n",
    "datsun.owner = dwight\n",
    "# let's create more people\n",
    "meredith = Person(\"Meredith Palmer\", \"Purchaser - Supplier Relations\")\n",
    "ford_minivan = Car(\"Ford\", \"Aerostar Minivan\", 1997, meredith)\n",
    "jim = Person(\"Jim Halpert\", \"Paper Salesperson\")\n",
    "corolla = Car(\"Toyota\", \"Corolla\", 2000, jim)\n",
    "stanley = Person(\"Stanley Hudson\", \"Paper Salesperson\")\n",
    "camry = Car (\"Toyota\", \"Camry\", 2008, stanley)"
   ]
  },
  {
   "cell_type": "markdown",
   "metadata": {},
   "source": [
    "Alright, now let's try figuring out the employees drive toyotas, the average age of a Dunder Mifflin Employee's car, the person that owns the oldest car, and the most popular car manufacturer."
   ]
  },
  {
   "cell_type": "code",
   "execution_count": 12,
   "metadata": {},
   "outputs": [
    {
     "ename": "AttributeError",
     "evalue": "type object 'Person' has no attribute 'has_oldest_car'",
     "output_type": "error",
     "traceback": [
      "\u001b[0;31m\u001b[0m",
      "\u001b[0;31mAttributeError\u001b[0mTraceback (most recent call last)",
      "\u001b[0;32m<ipython-input-12-ca4564f7aba3>\u001b[0m in \u001b[0;36m<module>\u001b[0;34m()\u001b[0m\n\u001b[0;32m----> 1\u001b[0;31m \u001b[0mPerson\u001b[0m\u001b[0;34m.\u001b[0m\u001b[0mhas_oldest_car\u001b[0m\u001b[0;34m(\u001b[0m\u001b[0;34m)\u001b[0m \u001b[0;31m# class method that returns the person instance object that owns the oldest car\u001b[0m\u001b[0;34m\u001b[0m\u001b[0m\n\u001b[0m",
      "\u001b[0;31mAttributeError\u001b[0m: type object 'Person' has no attribute 'has_oldest_car'"
     ]
    }
   ],
   "source": [
    "Person.has_oldest_car() # class method that returns the person instance object that owns the oldest car"
   ]
  },
  {
   "cell_type": "code",
   "execution_count": 13,
   "metadata": {},
   "outputs": [
    {
     "ename": "AttributeError",
     "evalue": "type object 'Person' has no attribute 'drives_a'",
     "output_type": "error",
     "traceback": [
      "\u001b[0;31m\u001b[0m",
      "\u001b[0;31mAttributeError\u001b[0mTraceback (most recent call last)",
      "\u001b[0;32m<ipython-input-13-8f7acf921d56>\u001b[0m in \u001b[0;36m<module>\u001b[0;34m()\u001b[0m\n\u001b[0;32m----> 1\u001b[0;31m \u001b[0mPerson\u001b[0m\u001b[0;34m.\u001b[0m\u001b[0mdrives_a\u001b[0m\u001b[0;34m(\u001b[0m\u001b[0;34m\"Toyota\"\u001b[0m\u001b[0;34m)\u001b[0m\u001b[0;34m\u001b[0m\u001b[0m\n\u001b[0m\u001b[1;32m      2\u001b[0m \u001b[0;31m# class method that returns a list of person instance objects that own a Toyota\u001b[0m\u001b[0;34m\u001b[0m\u001b[0;34m\u001b[0m\u001b[0m\n\u001b[1;32m      3\u001b[0m \u001b[0;31m# example: [jim, pam, stanley]\u001b[0m\u001b[0;34m\u001b[0m\u001b[0;34m\u001b[0m\u001b[0m\n\u001b[1;32m      4\u001b[0m \u001b[0mPerson\u001b[0m\u001b[0;34m.\u001b[0m\u001b[0mdrives_a\u001b[0m\u001b[0;34m(\u001b[0m\u001b[0;34m\"Ford\"\u001b[0m\u001b[0;34m)\u001b[0m\u001b[0;34m\u001b[0m\u001b[0m\n\u001b[1;32m      5\u001b[0m \u001b[0;31m# class method that returns a list of person instance objects that own a Ford\u001b[0m\u001b[0;34m\u001b[0m\u001b[0;34m\u001b[0m\u001b[0m\n",
      "\u001b[0;31mAttributeError\u001b[0m: type object 'Person' has no attribute 'drives_a'"
     ]
    }
   ],
   "source": [
    "Person.drives_a(\"Toyota\") \n",
    "# class method that returns a list of person instance objects that own a Toyota\n",
    "# example: [jim, pam, stanley]\n",
    "Person.drives_a(\"Ford\")\n",
    "# class method that returns a list of person instance objects that own a Ford\n",
    "# example: [meredith]"
   ]
  },
  {
   "cell_type": "code",
   "execution_count": 14,
   "metadata": {},
   "outputs": [
    {
     "ename": "AttributeError",
     "evalue": "'Person' object has no attribute 'drives_same_make_as_me'",
     "output_type": "error",
     "traceback": [
      "\u001b[0;31m\u001b[0m",
      "\u001b[0;31mAttributeError\u001b[0mTraceback (most recent call last)",
      "\u001b[0;32m<ipython-input-14-30911189ddba>\u001b[0m in \u001b[0;36m<module>\u001b[0;34m()\u001b[0m\n\u001b[0;32m----> 1\u001b[0;31m \u001b[0mjim\u001b[0m\u001b[0;34m.\u001b[0m\u001b[0mdrives_same_make_as_me\u001b[0m\u001b[0;34m(\u001b[0m\u001b[0;34m)\u001b[0m\u001b[0;34m\u001b[0m\u001b[0m\n\u001b[0m\u001b[1;32m      2\u001b[0m \u001b[0;31m# instance method that returns a list of other dunder mifflin employees\u001b[0m\u001b[0;34m\u001b[0m\u001b[0;34m\u001b[0m\u001b[0m\n\u001b[1;32m      3\u001b[0m \u001b[0;31m# that drive the same make car as the instance object it was called on\u001b[0m\u001b[0;34m\u001b[0m\u001b[0;34m\u001b[0m\u001b[0m\n\u001b[1;32m      4\u001b[0m \u001b[0;31m# example: [pam, stanley]\u001b[0m\u001b[0;34m\u001b[0m\u001b[0;34m\u001b[0m\u001b[0m\n",
      "\u001b[0;31mAttributeError\u001b[0m: 'Person' object has no attribute 'drives_same_make_as_me'"
     ]
    }
   ],
   "source": [
    "jim.drives_same_make_as_me()\n",
    "# instance method that returns a list of other dunder mifflin employees \n",
    "# that drive the same make car as the instance object it was called on\n",
    "# example: [pam, stanley]"
   ]
  },
  {
   "cell_type": "code",
   "execution_count": 15,
   "metadata": {},
   "outputs": [
    {
     "ename": "AttributeError",
     "evalue": "type object 'Car' has no attribute 'cars_driven_by'",
     "output_type": "error",
     "traceback": [
      "\u001b[0;31m\u001b[0m",
      "\u001b[0;31mAttributeError\u001b[0mTraceback (most recent call last)",
      "\u001b[0;32m<ipython-input-15-4533f8d630b2>\u001b[0m in \u001b[0;36m<module>\u001b[0;34m()\u001b[0m\n\u001b[0;32m----> 1\u001b[0;31m \u001b[0mCar\u001b[0m\u001b[0;34m.\u001b[0m\u001b[0mcars_driven_by\u001b[0m\u001b[0;34m(\u001b[0m\u001b[0;34m\"Paper Salesperson\"\u001b[0m\u001b[0;34m)\u001b[0m\u001b[0;34m\u001b[0m\u001b[0m\n\u001b[0m\u001b[1;32m      2\u001b[0m \u001b[0;31m# class method that returns a list of car instance objects that are driven\u001b[0m\u001b[0;34m\u001b[0m\u001b[0;34m\u001b[0m\u001b[0m\n\u001b[1;32m      3\u001b[0m \u001b[0;31m# by people whose occupation is \"Paper Salesperson\"\u001b[0m\u001b[0;34m\u001b[0m\u001b[0;34m\u001b[0m\u001b[0m\n\u001b[1;32m      4\u001b[0m \u001b[0;31m# example: [dwight, jim, stanley]\u001b[0m\u001b[0;34m\u001b[0m\u001b[0;34m\u001b[0m\u001b[0m\n",
      "\u001b[0;31mAttributeError\u001b[0m: type object 'Car' has no attribute 'cars_driven_by'"
     ]
    }
   ],
   "source": [
    "Car.cars_driven_by(\"Paper Salesperson\")\n",
    "# class method that returns a list of car instance objects that are driven \n",
    "# by people whose occupation is \"Paper Salesperson\"\n",
    "# example: [dwight, jim, stanley]"
   ]
  },
  {
   "cell_type": "markdown",
   "metadata": {},
   "source": [
    "## Summary\n"
   ]
  },
  {
   "cell_type": "markdown",
   "metadata": {},
   "source": [
    "Great work! In this lab we successfully created a belongs to relationship between different Python classes. We were able to create a domain that more closely resembles a real world structure by translating the real world relationship between cars and people into code. We were then able to leverage this relationship in order to query information about our classes and their instances. Object relationships, although more straight forward than relationships between living people, can get quite complex and it is important to think critically about how to set them up properly. In a belongs to relationship, we learned it is the responsibilty of the *belongs to* class (the Car class) to know what it belongs to. "
   ]
  },
  {
   "cell_type": "code",
   "execution_count": null,
   "metadata": {},
   "outputs": [],
   "source": []
  },
  {
   "cell_type": "code",
   "execution_count": null,
   "metadata": {},
   "outputs": [],
   "source": []
  },
  {
   "cell_type": "code",
   "execution_count": null,
   "metadata": {},
   "outputs": [],
   "source": []
  },
  {
   "cell_type": "code",
   "execution_count": null,
   "metadata": {},
   "outputs": [],
   "source": []
  },
  {
   "cell_type": "code",
   "execution_count": null,
   "metadata": {},
   "outputs": [],
   "source": []
  },
  {
   "cell_type": "code",
   "execution_count": null,
   "metadata": {},
   "outputs": [],
   "source": []
  },
  {
   "cell_type": "code",
   "execution_count": null,
   "metadata": {},
   "outputs": [],
   "source": []
  },
  {
   "cell_type": "code",
   "execution_count": null,
   "metadata": {},
   "outputs": [],
   "source": []
  }
 ],
 "metadata": {
  "kernelspec": {
   "display_name": "Python 3",
   "language": "python",
   "name": "python3"
  },
  "language_info": {
   "codemirror_mode": {
    "name": "ipython",
    "version": 3
   },
   "file_extension": ".py",
   "mimetype": "text/x-python",
   "name": "python",
   "nbconvert_exporter": "python",
   "pygments_lexer": "ipython3",
   "version": "3.6.6"
  }
 },
 "nbformat": 4,
 "nbformat_minor": 2
}
